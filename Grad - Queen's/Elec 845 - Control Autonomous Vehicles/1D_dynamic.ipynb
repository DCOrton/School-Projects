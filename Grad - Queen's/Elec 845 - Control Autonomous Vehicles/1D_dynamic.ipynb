{
 "cells": [
  {
   "cell_type": "markdown",
   "id": "eda1df5c-ca8a-4d5f-8ba6-52ec6e468b4a",
   "metadata": {
    "tags": []
   },
   "source": [
    "## Example oneD_dynamic_control.py\n",
    "### Author: Joshua A. Marshall <joshua.marshall@queensu.ca>\n",
    "#### GitHub: https://github.com/botprof/agv-examples"
   ]
  },
  {
   "cell_type": "markdown",
   "id": "4975bbeb-581a-4ab6-a6ee-074356dec7e0",
   "metadata": {},
   "source": [
    "## SIMULATION SETUP"
   ]
  },
  {
   "cell_type": "code",
   "execution_count": 1,
   "id": "e7576a62-99ae-4e2c-ae3b-687b814595b7",
   "metadata": {},
   "outputs": [
    {
     "ename": "ModuleNotFoundError",
     "evalue": "No module named 'mobotpy'",
     "output_type": "error",
     "traceback": [
      "\u001b[0;31m---------------------------------------------------------------------------\u001b[0m",
      "\u001b[0;31mModuleNotFoundError\u001b[0m                       Traceback (most recent call last)",
      "Cell \u001b[0;32mIn[1], line 3\u001b[0m\n\u001b[1;32m      1\u001b[0m \u001b[38;5;28;01mimport\u001b[39;00m \u001b[38;5;21;01mnumpy\u001b[39;00m \u001b[38;5;28;01mas\u001b[39;00m \u001b[38;5;21;01mnp\u001b[39;00m\n\u001b[1;32m      2\u001b[0m \u001b[38;5;28;01mimport\u001b[39;00m \u001b[38;5;21;01mmatplotlib\u001b[39;00m\u001b[38;5;21;01m.\u001b[39;00m\u001b[38;5;21;01mpyplot\u001b[39;00m \u001b[38;5;28;01mas\u001b[39;00m \u001b[38;5;21;01mplt\u001b[39;00m\n\u001b[0;32m----> 3\u001b[0m \u001b[38;5;28;01mimport\u001b[39;00m \u001b[38;5;21;01mmobotpy\u001b[39;00m\u001b[38;5;21;01m.\u001b[39;00m\u001b[38;5;21;01mmodels\u001b[39;00m\n\u001b[1;32m      5\u001b[0m \u001b[38;5;66;03m# Set the simulation time [s] and the sample period [s]\u001b[39;00m\n\u001b[1;32m      6\u001b[0m SIM_TIME \u001b[38;5;241m=\u001b[39m \u001b[38;5;241m30.0\u001b[39m\n",
      "\u001b[0;31mModuleNotFoundError\u001b[0m: No module named 'mobotpy'"
     ]
    }
   ],
   "source": [
    "import numpy as np\n",
    "import matplotlib.pyplot as plt\n",
    "import mobotpy.models\n",
    "\n",
    "# Set the simulation time [s] and the sample period [s]\n",
    "SIM_TIME = 30.0\n",
    "T = 0.04\n",
    "\n",
    "# Create an array of time values [s]\n",
    "t = np.arange(0, SIM_TIME, T)\n",
    "N = np.size(t)"
   ]
  },
  {
   "cell_type": "code",
   "execution_count": 2,
   "id": "c7a9105f-1b65-460e-9a47-109e6a6edb33",
   "metadata": {},
   "outputs": [],
   "source": [
    "# %% FUNCTION DEFINITIONS\n",
    "\n",
    "# Set the mass of the vehicle [kg]\n",
    "m = 10.0\n",
    "\n",
    "# Define the vehicle model matrices\n",
    "F = np.array([[1, T], [0, 1]])\n",
    "G = np.array([[T ** 2 / (2 * m)], [T / m]])"
   ]
  },
  {
   "cell_type": "code",
   "execution_count": 3,
   "id": "6b78f339-61cd-4efc-81a1-3b0565ce5194",
   "metadata": {},
   "outputs": [],
   "source": [
    "def vehicle(x, u, F, G):\n",
    "    \"\"\"Discrete-time 1D dynamic vehicle model.\"\"\"\n",
    "    x_new = F @ x + G @ [u]\n",
    "    return x_new\n",
    "\n",
    "\n",
    "def controller(x, K):\n",
    "    \"\"\"Proportional controller.\"\"\"\n",
    "    u = -K @ x\n",
    "    return u"
   ]
  },
  {
   "cell_type": "code",
   "execution_count": 4,
   "id": "c4980f79-f9e7-440d-9dd6-af0900d1ac5c",
   "metadata": {},
   "outputs": [],
   "source": [
    "# %% RUN SIMULATION\n",
    "\n",
    "# Initialize arrays that will be populated with our inputs and states\n",
    "x = np.zeros((2, N))\n",
    "u = np.zeros(N)\n",
    "\n",
    "# Choose the controller gains\n",
    "K = np.array([3.0, 4.0])\n",
    "\n",
    "# Set the initial position [m], velocity [m/s], and force input [N]\n",
    "x[0, 0] = 1.0\n",
    "x[1, 0] = 0.0\n",
    "u[0] = 0.0\n",
    "\n",
    "# Run the simulation\n",
    "for k in range(1, N):\n",
    "    x[:, k] = vehicle(x[:, k - 1], u[k - 1], F, G)\n",
    "    u[k] = controller(x[:, k], K)"
   ]
  },
  {
   "cell_type": "code",
   "execution_count": 5,
   "id": "e3f926bd-73b9-43d0-9312-966da89d3bb7",
   "metadata": {},
   "outputs": [
    {
     "data": {
      "image/png": "[encoded data removed]",
      "text/plain": [
       "<Figure size 640x480 with 3 Axes>"
      ]
     },
     "metadata": {},
     "output_type": "display_data"
    }
   ],
   "source": [
    "# %% MAKE A PLOT\n",
    "\n",
    "# Change some plot settings (optional)\n",
    "plt.rc(\"text\", usetex=True)\n",
    "plt.rc(\"text.latex\", preamble=r\"\\usepackage{cmbright,amsmath}\")\n",
    "plt.rc(\"savefig\", format=\"pdf\")\n",
    "plt.rc(\"savefig\", bbox=\"tight\")\n",
    "\n",
    "# Plot the states (x) and input (u) vs time (t)\n",
    "fig1 = plt.figure(1)\n",
    "ax1a = plt.subplot(311)\n",
    "plt.plot(t, x[0, :], \"C0\")\n",
    "plt.grid(color=\"0.95\")\n",
    "plt.ylabel(r\"$x_1$ [m]\")\n",
    "plt.setp(ax1a, xticklabels=[])\n",
    "ax1b = plt.subplot(312)\n",
    "plt.plot(t, x[1, :], \"C0\")\n",
    "plt.grid(color=\"0.95\")\n",
    "plt.ylabel(r\"$x_2$ [m/s]\")\n",
    "plt.setp(ax1b, xticklabels=[])\n",
    "ax1c = plt.subplot(313)\n",
    "plt.step(t, u, \"C1\", where=\"post\")\n",
    "plt.grid(color=\"0.95\")\n",
    "plt.ylabel(r\"$u$ [N]\")\n",
    "plt.xlabel(r\"$t$ [s]\")\n",
    "\n",
    "# Save the plot\n",
    "#plt.savefig(\"../agv-book/figs/ch2/oneD_dynamic_control_fig1.pdf\")\n",
    "\n",
    "# %% MAKE AN ANIMATION\n",
    "\n",
    "# Set the side length of the vehicle [m]\n",
    "LENGTH = 1.0\n",
    "\n",
    "# Let's use the Cart class to create an animation\n",
    "#vehicle = Cart(LENGTH)\n",
    "\n",
    "# Create and save the animation\n",
    "#ani = vehicle.animate(x[0, :], T, True, \"../agv-book/gifs/ch2/oneD_dynamic_control.gif\")\n",
    "\n",
    "# %%\n",
    "\n",
    "# Show all the plots to the screen\n",
    "plt.show()"
   ]
  },
  {
   "cell_type": "code",
   "execution_count": null,
   "id": "4aabe64b-93cc-49f6-bbc4-092846a0d28a",
   "metadata": {},
   "outputs": [],
   "source": []
  }
 ],
 "metadata": {
  "kernelspec": {
   "display_name": "Python 3 (ipykernel)",
   "language": "python",
   "name": "python3"
  },
  "language_info": {
   "codemirror_mode": {
    "name": "ipython",
    "version": 3
   },
   "file_extension": ".py",
   "mimetype": "text/x-python",
   "name": "python",
   "nbconvert_exporter": "python",
   "pygments_lexer": "ipython3",
   "version": "3.10.9"
  }
 },
 "nbformat": 4,
 "nbformat_minor": 5
}
