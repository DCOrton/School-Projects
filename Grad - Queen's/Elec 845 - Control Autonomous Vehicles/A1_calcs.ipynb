{
 "cells": [
  {
   "cell_type": "code",
   "execution_count": 316,
   "id": "2e7f11f0-47de-4741-bf9c-c2624221b179",
   "metadata": {},
   "outputs": [],
   "source": [
    "%matplotlib inline\n",
    "%matplotlib notebook\n",
    "import sympy as sym\n",
    "\n",
    "import matplotlib.pyplot as plt\n",
    "%matplotlib inline\n",
    "\n",
    "x,y,th,ph = sym.symbols('x,y,th,ph')\n",
    "\n",
    "a0,a1,a2,a3 = sym.symbols('a:4')\n",
    "\n",
    "a,b = sym.symbols('a,b') #a:'1.975' b:'3.850'"
   ]
  },
  {
   "cell_type": "code",
   "execution_count": 317,
   "id": "8e3a0534-1096-47ff-adaf-fd6beef3b9fd",
   "metadata": {},
   "outputs": [
    {
     "data": {
      "text/latex": [
       "$\\displaystyle \\left[\\begin{matrix}- \\sin{\\left(th \\right)} & \\cos{\\left(th \\right)} & 0 & 0\\\\\\sin{\\left(ph - th \\right)} & \\cos{\\left(ph - th \\right)} & - a \\cos{\\left(ph \\right)} - b & b\\end{matrix}\\right]$"
      ],
      "text/plain": [
       "Matrix([\n",
       "[    -sin(th),      cos(th),              0, 0],\n",
       "[sin(ph - th), cos(ph - th), -a*cos(ph) - b, b]])"
      ]
     },
     "execution_count": 317,
     "metadata": {},
     "output_type": "execute_result"
    }
   ],
   "source": [
    "xr_prime = [ ( x - a*sym.cos(th)-b*sym.cos(th-ph) ).diff(var)*(-sym.sin(th-ph)) for var in [x,y,th,ph] ]\n",
    "yr_prime = [ ( y - a*sym.sin(th)-b*sym.sin(th-ph) ).diff(var)*(sym.cos(th-ph)) for var in [x,y,th,ph] ]\n",
    "Wr = sym.Matrix(xr_prime)+sym.Matrix(yr_prime)\n",
    "Wr.simplify()\n",
    "\n",
    "xf_prime = [ ( x  ).diff(var)*(-sym.sin(th)) for var in [x,y,th,ph] ]\n",
    "yf_prime = [ ( y  ).diff(var)*(sym.cos(th)) for var in [x,y,th,ph] ]\n",
    "Wf = sym.Matrix(xf_prime)+sym.Matrix(yf_prime)\n",
    "Wf.simplify()\n",
    "\n",
    "A = sym.Matrix([Wf.T ,Wr.T])\n",
    "A"
   ]
  },
  {
   "cell_type": "code",
   "execution_count": 318,
   "id": "b26f88a4-2dbf-489b-9657-54854e5d1700",
   "metadata": {},
   "outputs": [],
   "source": [
    "A= A*sym.Matrix([a0,a1,a2,a3])"
   ]
  },
  {
   "cell_type": "code",
   "execution_count": 320,
   "id": "12cce9fa-6ab1-4927-b3a4-2d7e9891809f",
   "metadata": {},
   "outputs": [
    {
     "data": {
      "text/plain": [
       "[(sin(ph)/(a*cos(ph) + b),)]"
      ]
     },
     "execution_count": 320,
     "metadata": {},
     "output_type": "execute_result"
    }
   ],
   "source": [
    "sol = sym.solve( A.subs([(a0,sym.cos(th)),(a1,sym.sin(th)),(a3,0)]), [a2], manual=True)\n",
    "sol"
   ]
  },
  {
   "cell_type": "code",
   "execution_count": 321,
   "id": "34996bd4-aff2-4173-b540-d73cbf90521c",
   "metadata": {},
   "outputs": [
    {
     "data": {
      "text/plain": [
       "[(b/(a*cos(ph) + b),)]"
      ]
     },
     "execution_count": 321,
     "metadata": {},
     "output_type": "execute_result"
    }
   ],
   "source": [
    "sol = sym.solve( A.subs([(a0,0),(a1,0),(a3,1)]), [a2], manual=True)\n",
    "sol"
   ]
  },
  {
   "cell_type": "code",
   "execution_count": 327,
   "id": "b2ced3b8-e452-4abf-85fe-595ad2c57dbb",
   "metadata": {},
   "outputs": [
    {
     "data": {
      "text/latex": [
       "$\\displaystyle \\left[\\begin{matrix}\\cos{\\left(th \\right)} & 0\\\\\\sin{\\left(th \\right)} & 0\\\\\\frac{\\sin{\\left(ph \\right)}}{a \\cos{\\left(ph \\right)} + b} & \\frac{b}{a \\cos{\\left(ph \\right)} + b}\\\\0 & 1\\end{matrix}\\right]$"
      ],
      "text/plain": [
       "Matrix([\n",
       "[                cos(th),                 0],\n",
       "[                sin(th),                 0],\n",
       "[sin(ph)/(a*cos(ph) + b), b/(a*cos(ph) + b)],\n",
       "[                      0,                 1]])"
      ]
     },
     "execution_count": 327,
     "metadata": {},
     "output_type": "execute_result"
    }
   ],
   "source": [
    "G = sym.Matrix([[sym.cos(th), sym.sin(th), sym.sin(ph)/(a*sym.cos(ph)+b), 0] , [0,0,b/(a*sym.cos(ph)+b),1]])\n",
    "G.T"
   ]
  },
  {
   "cell_type": "code",
   "execution_count": 329,
   "id": "e1226cc9-5f3a-4d8f-a03f-84719b907408",
   "metadata": {},
   "outputs": [],
   "source": [
    "xd,yd,thd,phd,v,vd,w,wd = sym.symbols('xd,yd,thd,phd,v,vd,w,wd')\n",
    "\n",
    "x_hat = x-xd\n",
    "y_hat = y-yd\n",
    "th_hat = th-thd\n",
    "ph_hat = ph-phd\n",
    "v_hat = v-vd\n",
    "w_hat = w-wd"
   ]
  },
  {
   "cell_type": "code",
   "execution_count": 346,
   "id": "d6481354-1da8-469d-9f90-fbdfb6368aaf",
   "metadata": {},
   "outputs": [
    {
     "data": {
      "text/latex": [
       "$\\displaystyle \\left[\\begin{matrix}0 & 0 & vd \\sin{\\left(th \\right)} & 0\\\\0 & 0 & - vd \\cos{\\left(th \\right)} & 0\\\\0 & 0 & 0 & - \\frac{a b wd \\sin{\\left(ph \\right)} + a vd + b vd \\cos{\\left(ph \\right)}}{\\left(a \\cos{\\left(ph \\right)} + b\\right)^{2}}\\\\0 & 0 & 0 & 0\\end{matrix}\\right]$"
      ],
      "text/plain": [
       "Matrix([\n",
       "[0, 0,  vd*sin(th),                                                          0],\n",
       "[0, 0, -vd*cos(th),                                                          0],\n",
       "[0, 0,           0, -(a*b*wd*sin(ph) + a*vd + b*vd*cos(ph))/(a*cos(ph) + b)**2],\n",
       "[0, 0,           0,                                                          0]])"
      ]
     },
     "execution_count": 346,
     "metadata": {},
     "output_type": "execute_result"
    }
   ],
   "source": [
    "test_prime = [ ( G.T*sym.Matrix([v_hat.subs(v,0),w_hat.subs(w,0)]) ).diff(var) for var in [x,y,th,ph] ]\n",
    "test_prime=sym.Matrix(test_prime)\n",
    "test_prime.simplify()\n",
    "test_prime.reshape(4,4).T"
   ]
  },
  {
   "cell_type": "code",
   "execution_count": 343,
   "id": "aff95b60-0e6a-4ddd-b68c-fc1d39a898c1",
   "metadata": {},
   "outputs": [
    {
     "data": {
      "text/latex": [
       "$\\displaystyle \\left[\\begin{matrix}\\cos{\\left(th \\right)} & 0\\\\\\sin{\\left(th \\right)} & 0\\\\\\frac{\\sin{\\left(ph \\right)}}{a \\cos{\\left(ph \\right)} + b} & \\frac{b}{a \\cos{\\left(ph \\right)} + b}\\\\0 & 1\\end{matrix}\\right]$"
      ],
      "text/plain": [
       "Matrix([\n",
       "[                cos(th),                 0],\n",
       "[                sin(th),                 0],\n",
       "[sin(ph)/(a*cos(ph) + b), b/(a*cos(ph) + b)],\n",
       "[                      0,                 1]])"
      ]
     },
     "execution_count": 343,
     "metadata": {},
     "output_type": "execute_result"
    }
   ],
   "source": [
    "test_prime = [ ( G.T*sym.Matrix([v_hat,w_hat]) ).diff(var) for var in [v,w] ]\n",
    "test_prime=sym.Matrix(test_prime)\n",
    "test_prime.simplify()\n",
    "test_prime.reshape(2,4).T"
   ]
  },
  {
   "cell_type": "code",
   "execution_count": null,
   "id": "bd2fae79-671e-410c-a4a1-dd86596d2d77",
   "metadata": {},
   "outputs": [],
   "source": []
  }
 ],
 "metadata": {
  "kernelspec": {
   "display_name": "Python 3 (ipykernel)",
   "language": "python",
   "name": "python3"
  },
  "language_info": {
   "codemirror_mode": {
    "name": "ipython",
    "version": 3
   },
   "file_extension": ".py",
   "mimetype": "text/x-python",
   "name": "python",
   "nbconvert_exporter": "python",
   "pygments_lexer": "ipython3",
   "version": "3.10.10"
  }
 },
 "nbformat": 4,
 "nbformat_minor": 5
}
