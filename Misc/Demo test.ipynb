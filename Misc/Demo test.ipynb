{
 "cells": [
  {
   "cell_type": "code",
   "execution_count": 1,
   "id": "aa948046",
   "metadata": {},
   "outputs": [
    {
     "name": "stdout",
     "output_type": "stream",
     "text": [
      "Populating the interactive namespace from numpy and matplotlib\n"
     ]
    },
    {
     "data": {
      "text/latex": [
       "$\\displaystyle 2 x^{2} + 3$"
      ],
      "text/plain": [
       "2*x**2 + 3"
      ]
     },
     "execution_count": 1,
     "metadata": {},
     "output_type": "execute_result"
    }
   ],
   "source": [
    "%pylab inline\n",
    "%matplotlib notebook\n",
    "import sympy as sym\n",
    "\n",
    "import matplotlib.pyplot as plt\n",
    "%matplotlib inline\n",
    "\n",
    "x = sym.Symbol('x')\n",
    "\n",
    "f = 2*x**2+3\n",
    "f\n",
    "\n",
    "\n"
   ]
  },
  {
   "cell_type": "code",
   "execution_count": 2,
   "id": "89f07fab",
   "metadata": {},
   "outputs": [
    {
     "name": "stdout",
     "output_type": "stream",
     "text": [
      "2(2)^2 + 3 = 11\n"
     ]
    }
   ],
   "source": [
    "z = f.subs(x, 2)\n",
    "print('2(2)^2 + 3 =', z)\n"
   ]
  },
  {
   "cell_type": "code",
   "execution_count": 3,
   "id": "47c1399c",
   "metadata": {},
   "outputs": [
    {
     "data": {
      "text/latex": [
       "$\\displaystyle 4 x$"
      ],
      "text/plain": [
       "4*x"
      ]
     },
     "execution_count": 3,
     "metadata": {},
     "output_type": "execute_result"
    }
   ],
   "source": [
    "dfdx = f.diff(x)\n",
    "dfdx\n"
   ]
  },
  {
   "cell_type": "code",
   "execution_count": 4,
   "id": "df1ba247",
   "metadata": {},
   "outputs": [
    {
     "name": "stdout",
     "output_type": "stream",
     "text": [
      "df/dx at x = 3 is 12\n"
     ]
    }
   ],
   "source": [
    "print('df/dx at x = 3 is', dfdx.subs(x, 3))\n"
   ]
  },
  {
   "cell_type": "code",
   "execution_count": 5,
   "id": "5cd6c9c2",
   "metadata": {},
   "outputs": [
    {
     "data": {
      "text/latex": [
       "$\\displaystyle 2 \\sin^{y^{2}}{\\left(x \\right)}$"
      ],
      "text/plain": [
       "2*sin(x)**(y**2)"
      ]
     },
     "execution_count": 5,
     "metadata": {},
     "output_type": "execute_result"
    }
   ],
   "source": [
    "y = sym.Symbol('y')\n",
    "g = 2*sym.sin(x)**y**2\n",
    "g"
   ]
  },
  {
   "cell_type": "code",
   "execution_count": 6,
   "id": "1f120244",
   "metadata": {},
   "outputs": [],
   "source": [
    "def fcn(x):\n",
    "    return 2*x**2 + 3"
   ]
  },
  {
   "cell_type": "code",
   "execution_count": 7,
   "id": "4a8790af",
   "metadata": {},
   "outputs": [
    {
     "name": "stdout",
     "output_type": "stream",
     "text": [
      "2(2)^2 + 3 = 11\n"
     ]
    }
   ],
   "source": [
    "z = fcn(2)\n",
    "print('2(2)^2 + 3 =', z)"
   ]
  },
  {
   "cell_type": "code",
   "execution_count": 8,
   "id": "52d3b5a2",
   "metadata": {},
   "outputs": [
    {
     "data": {
      "text/latex": [
       "$\\displaystyle 16 x^{4} + 96 x^{3} + 216 x^{2} + 216 x + 81$"
      ],
      "text/plain": [
       "16*x**4 + 96*x**3 + 216*x**2 + 216*x + 81"
      ]
     },
     "execution_count": 8,
     "metadata": {},
     "output_type": "execute_result"
    }
   ],
   "source": [
    "polynomial = (2*x + 3)**4\n",
    "polynomial.expand()"
   ]
  },
  {
   "cell_type": "code",
   "execution_count": 9,
   "id": "9302bde5",
   "metadata": {},
   "outputs": [
    {
     "data": {
      "image/png": "[encoded data removed]",
      "text/plain": [
       "<Figure size 432x288 with 6 Axes>"
      ]
     },
     "metadata": {
      "needs_background": "light"
     },
     "output_type": "display_data"
    }
   ],
   "source": [
    "plotfuncs = [plt.plot,\n",
    "             plt.stem,\n",
    "             plt.scatter,\n",
    "             plt.semilogx,\n",
    "             plt.semilogy,\n",
    "             plt.loglog]\n",
    "\n",
    "for i, func in enumerate(plotfuncs, 1):\n",
    "    plt.subplot(2, 3, i)\n",
    "    func([1, 2, 3], [2, 1, 2])\n",
    "    plt.title(func.__name__)\n",
    "plt.tight_layout()"
   ]
  },
  {
   "cell_type": "code",
   "execution_count": 1,
   "id": "223bab54",
   "metadata": {},
   "outputs": [
    {
     "data": {
      "application/vnd.jupyter.widget-view+json": {
       "model_id": "6c969b369ca44759bd3cfc722997a117",
       "version_major": 2,
       "version_minor": 0
      },
      "text/plain": [
       "interactive(children=(IntSlider(value=0, description='x', max=10, min=-10), Output()), _dom_classes=('widget-i…"
      ]
     },
     "metadata": {},
     "output_type": "display_data"
    },
    {
     "data": {
      "text/plain": [
       "<function __main__.myfunc(x)>"
      ]
     },
     "execution_count": 1,
     "metadata": {},
     "output_type": "execute_result"
    }
   ],
   "source": [
    "from ipywidgets import interact, widgets\n",
    "\n",
    "# this is a sample function\n",
    "def myfunc(x):\n",
    "    return x*2\n",
    "\n",
    "interact(myfunc,x=widgets.IntSlider(min=-10,max=10,value=0))\n"
   ]
  },
  {
   "cell_type": "code",
   "execution_count": 11,
   "id": "aac7c44b",
   "metadata": {},
   "outputs": [],
   "source": [
    "import lcapy\n",
    "from lcapy import t, delta, u\n"
   ]
  },
  {
   "cell_type": "code",
   "execution_count": 12,
   "id": "c94b11f4",
   "metadata": {},
   "outputs": [
    {
     "data": {
      "image/png": "[encoded data removed]",
      "text/latex": [
       "$$3$$"
      ],
      "text/plain": [
       "3"
      ]
     },
     "execution_count": 12,
     "metadata": {},
     "output_type": "execute_result"
    }
   ],
   "source": [
    "v = 2 * t * u(t) + 3 + delta(t)\n",
    "i = 0 * t + 3\n",
    "i"
   ]
  },
  {
   "cell_type": "code",
   "execution_count": 13,
   "id": "0ea34b14",
   "metadata": {},
   "outputs": [
    {
     "data": {
      "image/png": "[encoded data removed]",
      "text/latex": [
       "$$\\frac{s + 3}{s - 4}$$"
      ],
      "text/plain": [
       "s + 3\n",
       "─────\n",
       "s - 4"
      ]
     },
     "execution_count": 13,
     "metadata": {},
     "output_type": "execute_result"
    }
   ],
   "source": [
    "from lcapy import s, j, omega\n",
    "H = (s + 3) / (s - 4)\n",
    "H"
   ]
  },
  {
   "cell_type": "code",
   "execution_count": 14,
   "id": "f5bae42a",
   "metadata": {},
   "outputs": [
    {
     "data": {
      "image/png": "[encoded data removed]",
      "text/latex": [
       "$$\\frac{t}{10}$$"
      ],
      "text/plain": [
       "t \n",
       "──\n",
       "10"
      ]
     },
     "execution_count": 14,
     "metadata": {},
     "output_type": "execute_result"
    }
   ],
   "source": [
    "x = t * 0.1\n",
    "x"
   ]
  },
  {
   "cell_type": "code",
   "execution_count": 15,
   "id": "c7fd9346",
   "metadata": {},
   "outputs": [
    {
     "data": {
      "image/png": "[encoded data removed]",
      "text/latex": [
       "$$\\frac{\\mathrm{j} \\omega + 3}{\\mathrm{j} \\omega - 4}$$"
      ],
      "text/plain": [
       "ⅉ⋅ω + 3\n",
       "───────\n",
       "ⅉ⋅ω - 4"
      ]
     },
     "execution_count": 15,
     "metadata": {},
     "output_type": "execute_result"
    }
   ],
   "source": [
    "from lcapy import s, j, omega\n",
    "H = (s + 3) / (s - 4)\n",
    "A = H(j * omega)\n",
    "A"
   ]
  },
  {
   "cell_type": "code",
   "execution_count": 16,
   "id": "4f3234de",
   "metadata": {},
   "outputs": [
    {
     "data": {
      "image/png": "[encoded data removed]",
      "text/latex": [
       "$$\\frac{\\omega^{2} - 7 \\mathrm{j} \\omega - 12}{\\omega^{2} + 16}$$"
      ],
      "text/plain": [
       " 2             \n",
       "ω  - 7⋅ⅉ⋅ω - 12\n",
       "───────────────\n",
       "     2         \n",
       "    ω  + 16    "
      ]
     },
     "execution_count": 16,
     "metadata": {},
     "output_type": "execute_result"
    }
   ],
   "source": [
    "A.rationalize_denominator()"
   ]
  },
  {
   "cell_type": "code",
   "execution_count": 17,
   "id": "229aab8a",
   "metadata": {},
   "outputs": [
    {
     "data": {
      "image/png": "[encoded data removed]",
      "text/latex": [
       "$$\\frac{\\omega^{2} - 12}{\\omega^{2} + 16}$$"
      ],
      "text/plain": [
       " 2     \n",
       "ω  - 12\n",
       "───────\n",
       " 2     \n",
       "ω  + 16"
      ]
     },
     "execution_count": 17,
     "metadata": {},
     "output_type": "execute_result"
    }
   ],
   "source": [
    "A.real"
   ]
  },
  {
   "cell_type": "code",
   "execution_count": 18,
   "id": "8f8d71fd",
   "metadata": {},
   "outputs": [
    {
     "data": {
      "image/png": "[encoded data removed]",
      "text/latex": [
       "$$- \\frac{7 \\omega}{\\omega^{2} + 16}$$"
      ],
      "text/plain": [
       " -7⋅ω  \n",
       "───────\n",
       " 2     \n",
       "ω  + 16"
      ]
     },
     "execution_count": 18,
     "metadata": {},
     "output_type": "execute_result"
    }
   ],
   "source": [
    "A.imag"
   ]
  },
  {
   "cell_type": "code",
   "execution_count": 19,
   "id": "4e9d4c4e",
   "metadata": {},
   "outputs": [
    {
     "data": {
      "image/png": "[encoded data removed]",
      "text/latex": [
       "$$\\mathrm{j} \\omega + 3$$"
      ],
      "text/plain": [
       "ⅉ⋅ω + 3"
      ]
     },
     "execution_count": 19,
     "metadata": {},
     "output_type": "execute_result"
    }
   ],
   "source": [
    "A.N"
   ]
  },
  {
   "cell_type": "code",
   "execution_count": 20,
   "id": "1d38de15",
   "metadata": {},
   "outputs": [
    {
     "data": {
      "image/png": "[encoded data removed]",
      "text/latex": [
       "$$\\mathrm{j} \\omega - 4$$"
      ],
      "text/plain": [
       "ⅉ⋅ω - 4"
      ]
     },
     "execution_count": 20,
     "metadata": {},
     "output_type": "execute_result"
    }
   ],
   "source": [
    "A.D"
   ]
  },
  {
   "cell_type": "code",
   "execution_count": 21,
   "id": "d99797c7",
   "metadata": {},
   "outputs": [
    {
     "data": {
      "image/png": "[encoded data removed]",
      "text/latex": [
       "$$\\mathrm{atan_{2}}{\\left(- 7 \\omega,\\omega^{2} - 12 \\right)}$$"
      ],
      "text/plain": [
       "     ⎛       2     ⎞\n",
       "atan2⎝-7⋅ω, ω  - 12⎠"
      ]
     },
     "execution_count": 21,
     "metadata": {},
     "output_type": "execute_result"
    }
   ],
   "source": [
    "A.phase"
   ]
  },
  {
   "cell_type": "code",
   "execution_count": 22,
   "id": "b4eddff1",
   "metadata": {},
   "outputs": [
    {
     "data": {
      "image/png": "[encoded data removed]",
      "text/latex": [
       "$$\\frac{\\sqrt{\\omega^{4} + 25 \\omega^{2} + 144}}{\\omega^{2} + 16}$$"
      ],
      "text/plain": [
       "   __________________\n",
       "  ╱  4       2       \n",
       "╲╱  ω  + 25⋅ω  + 144 \n",
       "─────────────────────\n",
       "        2            \n",
       "       ω  + 16       "
      ]
     },
     "execution_count": 22,
     "metadata": {},
     "output_type": "execute_result"
    }
   ],
   "source": [
    "A.magnitude"
   ]
  },
  {
   "cell_type": "code",
   "execution_count": null,
   "id": "c0312939",
   "metadata": {},
   "outputs": [],
   "source": []
  },
  {
   "cell_type": "code",
   "execution_count": 23,
   "id": "00d06166",
   "metadata": {},
   "outputs": [
    {
     "data": {
      "image/png": "[encoded data removed]"
     },
     "metadata": {
      "image/png": {
       "height": 299,
       "width": 742
      }
     },
     "output_type": "display_data"
    }
   ],
   "source": [
    "from lcapy import Circuit\n",
    " \n",
    "cct = Circuit()\n",
    "cct.add(\"\"\"\n",
    "Vi 1 0_1 step 20; down\n",
    "C 1 2; right, size=1.5\n",
    "R 2 0; down\n",
    "W 0_1 0; right\n",
    "W 0 0_2; right, size=0.5\n",
    "P1 2_2 0_2; down\n",
    "W 2 2_2;right, size=0.5\"\"\")\n",
    " \n",
    "cct.draw(style='american')\n"
   ]
  },
  {
   "cell_type": "code",
   "execution_count": 2,
   "id": "49e82ac1",
   "metadata": {},
   "outputs": [
    {
     "ename": "AttributeError",
     "evalue": "module 'lcapy' has no attribute 'T'",
     "output_type": "error",
     "traceback": [
      "\u001b[0;31m---------------------------------------------------------------------------\u001b[0m",
      "\u001b[0;31mAttributeError\u001b[0m                            Traceback (most recent call last)",
      "\u001b[0;32m<ipython-input-2-8a4ed58cfb40>\u001b[0m in \u001b[0;36m<module>\u001b[0;34m\u001b[0m\n\u001b[1;32m      7\u001b[0m \u001b[0;34m\u001b[0m\u001b[0m\n\u001b[1;32m      8\u001b[0m \u001b[0;31m# Create the transistor\u001b[0m\u001b[0;34m\u001b[0m\u001b[0;34m\u001b[0m\u001b[0;34m\u001b[0m\u001b[0m\n\u001b[0;32m----> 9\u001b[0;31m \u001b[0mQ\u001b[0m \u001b[0;34m=\u001b[0m \u001b[0mlcapy\u001b[0m\u001b[0;34m.\u001b[0m\u001b[0mT\u001b[0m\u001b[0;34m(\u001b[0m\u001b[0;34m\"Q1\"\u001b[0m\u001b[0;34m)\u001b[0m\u001b[0;34m\u001b[0m\u001b[0;34m\u001b[0m\u001b[0m\n\u001b[0m\u001b[1;32m     10\u001b[0m \u001b[0;34m\u001b[0m\u001b[0m\n\u001b[1;32m     11\u001b[0m \u001b[0;31m# Create the parallel circuit\u001b[0m\u001b[0;34m\u001b[0m\u001b[0;34m\u001b[0m\u001b[0;34m\u001b[0m\u001b[0m\n",
      "\u001b[0;31mAttributeError\u001b[0m: module 'lcapy' has no attribute 'T'"
     ]
    }
   ],
   "source": [
    "import lcapy\n",
    "\n",
    "# Define the circuit components\n",
    "R = lcapy.R(1)\n",
    "L = lcapy.L(2)\n",
    "C = lcapy.C(3)\n",
    "\n",
    "# Create the transistor\n",
    "Q = lcapy.T(\"Q1\")\n",
    "\n",
    "# Create the parallel circuit\n",
    "parallel_circuit = Q | R | L | C\n",
    "\n",
    "# Create the overall circuit\n",
    "circuit = parallel_circuit\n",
    "\n",
    "# Draw the circuit\n",
    "circuit.draw()"
   ]
  },
  {
   "cell_type": "code",
   "execution_count": 6,
   "id": "5fafebb5",
   "metadata": {},
   "outputs": [
    {
     "data": {
      "image/png": "[encoded data removed]",
      "text/plain": [
       "<Figure size 720x432 with 1 Axes>"
      ]
     },
     "metadata": {
      "needs_background": "light"
     },
     "output_type": "display_data"
    }
   ],
   "source": [
    "# Import necessary libraries\n",
    "import matplotlib.pyplot as plt\n",
    "from matplotlib.lines import Line2D\n",
    "\n",
    "plt.figure(figsize=(10, 6))\n",
    "plt.rc('font', size=14)\n",
    "\n",
    "# Define the number of input, hidden, and output nodes\n",
    "input_nodes = 5\n",
    "hidden_nodes = 4\n",
    "output_nodes = 2\n",
    "\n",
    "# Create input layer\n",
    "plt.scatter(0, 0, s=500, marker='o', c='b')\n",
    "plt.text(-0.5, -0.1, 'Input\\nLayer', fontsize=16)\n",
    "\n",
    "# Create hidden layer\n",
    "plt.scatter(1, 0, s=500, marker='o', c='r')\n",
    "plt.text(0.5, -0.1, 'Hidden\\nLayer', fontsize=16)\n",
    "\n",
    "# Create output layer\n",
    "plt.scatter(2, 0, s=500, marker='o', c='g')\n",
    "plt.text(1.5, -0.1, 'Output\\nLayer', fontsize=16)\n",
    "\n",
    "# Connect input and hidden layers\n",
    "for i in range(input_nodes):\n",
    "    for j in range(hidden_nodes):\n",
    "        plt.plot([0.25, 0.75], [i/input_nodes, j/hidden_nodes], c='k')\n",
    "\n",
    "# Connect hidden and output layers\n",
    "for i in range(hidden_nodes):\n",
    "    for j in range(output_nodes):\n",
    "        plt.plot([0.75, 1.25], [i/hidden_nodes, j/output_nodes], c='k')\n",
    "\n",
    "# Add legend\n",
    "custom_lines = [Line2D([0], [0], marker='o', color='w', markerfacecolor='b', markersize=10),\n",
    "                Line2D([0], [0], marker='o', color='w', markerfacecolor='r', markersize=10),\n",
    "                Line2D([0], [0], marker='o', color='w', markerfacecolor='g', markersize=10)]\n",
    "plt.legend(custom_lines, ['Input Node', 'Hidden Node', 'Output Node'], bbox_to_anchor=(1.05, 1), loc=2, borderaxespad=0.)\n",
    "# Show the plot\n",
    "plt.show()\n"
   ]
  },
  {
   "cell_type": "code",
   "execution_count": 24,
   "id": "0d5b969e",
   "metadata": {},
   "outputs": [
    {
     "data": {
      "application/vnd.jupyter.widget-view+json": {
       "model_id": "52ef3dff73574693a417ed7c7b7331f2",
       "version_major": 2,
       "version_minor": 0
      },
      "text/plain": [
       "interactive(children=(IntSlider(value=1, description='R', max=10, min=1), Output()), _dom_classes=('widget-int…"
      ]
     },
     "metadata": {},
     "output_type": "display_data"
    }
   ],
   "source": [
    "import numpy as np\n",
    "from matplotlib.pyplot import figure, savefig\n",
    "from lcapy import Circuit\n",
    "\n",
    "@interact(R=(1,10,1))\n",
    "def response(R=1):\n",
    "    cct = Circuit()\n",
    " \n",
    "    cct.add('V 0_1 0 step 10;down')\n",
    "    cct.add('L 0_1 0_2 1e-3;right')\n",
    "    cct.add('C 0_2 1 1e-4;right')\n",
    "    cct.add('R 1 0_4 {R};down'.format(R=R))\n",
    "    cct.add('W 0_4 0; left')\n",
    " \n",
    "    t = np.linspace(0, 0.01, 1000)\n",
    "    vr = cct.R.v.evaluate(t)\n",
    " \n",
    "    fig = figure()\n",
    "    #Note that we can add Greek symbols from LaTex into the figure text\n",
    "    ax = fig.add_subplot(111, title='Resistor voltage (R={}$\\Omega$)'.format(R))\n",
    "    ax.plot(t, vr, linewidth=2)\n",
    "    ax.set_xlabel('Time (s)')\n",
    "    ax.set_ylabel('Resistor voltage (V)')\n",
    "    ax.grid(True)\n",
    "     \n",
    "    cct.draw()"
   ]
  },
  {
   "cell_type": "code",
   "execution_count": 25,
   "id": "08a0734e",
   "metadata": {},
   "outputs": [
    {
     "data": {
      "application/vnd.jupyter.widget-view+json": {
       "model_id": "e5aa50cadfe343a4ab9328ff25053666",
       "version_major": 2,
       "version_minor": 0
      },
      "text/plain": [
       "RadioButtons(description='Unit', index=1, options=('km', 'm', 'cm', 'mm'), value='m')"
      ]
     },
     "metadata": {},
     "output_type": "display_data"
    }
   ],
   "source": [
    "chkbox = widgets.RadioButtons(\n",
    " options=['km', 'm', 'cm','mm'],\n",
    " value = 'm',\n",
    " description='Unit')\n",
    "display(chkbox)"
   ]
  },
  {
   "cell_type": "code",
   "execution_count": 26,
   "id": "6625903c",
   "metadata": {},
   "outputs": [
    {
     "data": {
      "application/vnd.jupyter.widget-view+json": {
       "model_id": "55ae6e34e2e34f35a95891738db7b042",
       "version_major": 2,
       "version_minor": 0
      },
      "text/plain": [
       "Select(description='Unit:', index=1, options=('km', 'm', 'cm', 'mm'), rows=3, value='m')"
      ]
     },
     "metadata": {},
     "output_type": "display_data"
    }
   ],
   "source": [
    "sel = widgets.Select(\n",
    " options=['km', 'm', 'cm','mm'],\n",
    " value='m',\n",
    " rows=3,\n",
    " description='Unit:')\n",
    "display(sel)"
   ]
  },
  {
   "cell_type": "code",
   "execution_count": 27,
   "id": "3df7e46a",
   "metadata": {},
   "outputs": [
    {
     "data": {
      "application/vnd.jupyter.widget-view+json": {
       "model_id": "63946b961088448ba58f81fad3d27c3d",
       "version_major": 2,
       "version_minor": 0
      },
      "text/plain": [
       "ToggleButton(value=False, button_style='success', description='Cats?', icon='check', tooltip='Description')"
      ]
     },
     "metadata": {},
     "output_type": "display_data"
    },
    {
     "name": "stdout",
     "output_type": "stream",
     "text": [
      "False\n"
     ]
    }
   ],
   "source": [
    "chk = widgets.ToggleButton(\n",
    " value=False,\n",
    " description='Cats?',\n",
    " disabled=False,\n",
    " button_style='success',\n",
    " tooltip='Description',\n",
    " icon='check')\n",
    "display(chk)\n",
    "# In another cell\n",
    "print(chk.value)"
   ]
  },
  {
   "cell_type": "code",
   "execution_count": 28,
   "id": "f10182f8",
   "metadata": {},
   "outputs": [
    {
     "data": {
      "application/vnd.jupyter.widget-view+json": {
       "model_id": "981bc67b96854f4bb1d116193fe92126",
       "version_major": 2,
       "version_minor": 0
      },
      "text/plain": [
       "Checkbox(value=False, description='Click Me', indent=False)"
      ]
     },
     "metadata": {},
     "output_type": "display_data"
    }
   ],
   "source": [
    "chkbox = widgets.Checkbox(\n",
    " value=False,\n",
    " description='Click Me',\n",
    " disabled=False,\n",
    " indent=False # Indents the checkbox by 1 level\n",
    " )\n",
    "display(chkbox)"
   ]
  },
  {
   "cell_type": "code",
   "execution_count": 29,
   "id": "6cf40f34",
   "metadata": {},
   "outputs": [
    {
     "data": {
      "application/vnd.jupyter.widget-view+json": {
       "model_id": "605b9388b552423d9f6d2f82896b6f49",
       "version_major": 2,
       "version_minor": 0
      },
      "text/plain": [
       "Text(value='', description='Name:', placeholder='Enter you name')"
      ]
     },
     "metadata": {},
     "output_type": "display_data"
    },
    {
     "data": {
      "application/vnd.jupyter.widget-view+json": {
       "model_id": "1982c0165f5d4112a1207e41b691adae",
       "version_major": 2,
       "version_minor": 0
      },
      "text/plain": [
       "Textarea(value='this is the default value', description='Essay input', placeholder='Type something')"
      ]
     },
     "metadata": {},
     "output_type": "display_data"
    }
   ],
   "source": [
    "txtsl = widgets.Text(\n",
    " placeholder='Enter you name',\n",
    " description='Name:'\n",
    " )\n",
    "display(txtsl)\n",
    "txtml = widgets.Textarea(\n",
    " value='this is the default value',\n",
    " placeholder='Type something',\n",
    " description='Essay input' )\n",
    "display(txtml)"
   ]
  },
  {
   "cell_type": "markdown",
   "id": "9207b333",
   "metadata": {},
   "source": [
    "tab-less auto complete for jupyter \n",
    "pip install jupyter_contrib_nbextensions && jupyter contrib nbextension install"
   ]
  },
  {
   "cell_type": "code",
   "execution_count": null,
   "id": "212bc25d",
   "metadata": {},
   "outputs": [],
   "source": []
  }
 ],
 "metadata": {
  "kernelspec": {
   "display_name": "Python 3 (ipykernel)",
   "language": "python",
   "name": "python3"
  },
  "language_info": {
   "codemirror_mode": {
    "name": "ipython",
    "version": 3
   },
   "file_extension": ".py",
   "mimetype": "text/x-python",
   "name": "python",
   "nbconvert_exporter": "python",
   "pygments_lexer": "ipython3",
   "version": "3.10.10"
  }
 },
 "nbformat": 4,
 "nbformat_minor": 5
}
